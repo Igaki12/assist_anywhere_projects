{
 "cells": [
  {
   "cell_type": "markdown",
   "metadata": {},
   "source": [
    "どこでも試験対策　補助Python script \n",
    "追加した画像のリンクを作成してコピーペーストを行えればベスト。できなければクリップボードにコピーする。\n",
    "/Users/embryo03/Downloads/anywhere-microbiology/src/useQuestionList.js"
   ]
  },
  {
   "cell_type": "code",
   "execution_count": 14,
   "metadata": {},
   "outputs": [
    {
     "name": "stdout",
     "output_type": "stream",
     "text": [
      "['anywhere-microbiology']\n",
      "/Users/embryo03/Downloads/anywhere-microbiology\n",
      "/Users/embryo03/Downloads/anywhere-microbiologysrc/useQuestionList.js\n",
      "import {\n",
      "  useState\n",
      "} from 'react'\n",
      "import tuberculosis from './img/answer/tuberculosis.png';\n",
      "import GramMethod from './img/answer/GramMethod.png';\n",
      "import disinfection from './img/answer/disinfection.png';\n",
      "import cilia from './img/answer/cilia.png';\n",
      "import Chlamydiae from './img/answer/Chlamydiae.png';\n",
      "import bacteriaStructure from './img/answer/bacteriaStructure.png';\n",
      "import antiStain from './img/answer/antiStain.png';\n",
      "import question202202 from './img/question/question202202.png';\n",
      "import question202201 from './img/question/question202201.png';\n",
      "import spectorum from './img/answer/spectorum.png';\n",
      "import antibiotics from './img/answer/antibiotics.png';\n",
      "import Lactobacillus from './img/answer/Lactobacillus.png';\n",
      "import diphtheriae from './img/answer/diphtheriae.png';\n",
      "import Actinomycetes from './img/answer/Actinomycetes.png';\n",
      "import sequence16SrRNA from './img/answer/sequence16SrRNA.png';\n",
      "import Salmonella from './img/answer/Salmonella.png';\n",
      "import PFGE from './img/answer/PFGE.png';\n",
      "impor\n",
      "['/Users/embryo03/Downloads/anywhere-microbiology/src/img/answer/spectorum.png', '/Users/embryo03/Downloads/anywhere-microbiology/src/img/answer/influenzaVirusA.png', '/Users/embryo03/Downloads/anywhere-microbiology/src/img/answer/mitochondriaNucleus.png', '/Users/embryo03/Downloads/anywhere-microbiology/src/img/answer/Acinetobacter.png', '/Users/embryo03/Downloads/anywhere-microbiology/src/img/answer/LegionellaPathogenicity.png', '/Users/embryo03/Downloads/anywhere-microbiology/src/img/answer/Actinomycetes.png', '/Users/embryo03/Downloads/anywhere-microbiology/src/img/answer/MultiDrugResistant.png', '/Users/embryo03/Downloads/anywhere-microbiology/src/img/answer/MumpsVirus.png', '/Users/embryo03/Downloads/anywhere-microbiology/src/img/answer/VRE.png', '/Users/embryo03/Downloads/anywhere-microbiology/src/img/answer/disc.png', '/Users/embryo03/Downloads/anywhere-microbiology/src/img/answer/betaLactamaseCounterexample.png', '/Users/embryo03/Downloads/anywhere-microbiology/src/img/answer/toxinInnerOuter.png', '/Users/embryo03/Downloads/anywhere-microbiology/src/img/answer/BetaLactamResistanceMechanisms.png', '/Users/embryo03/Downloads/anywhere-microbiology/src/img/answer/GramMethod.png', '/Users/embryo03/Downloads/anywhere-microbiology/src/img/answer/Measles.png', '/Users/embryo03/Downloads/anywhere-microbiology/src/img/answer/tuberculosis.png', '/Users/embryo03/Downloads/anywhere-microbiology/src/img/answer/pallidumTreponemaSymptoms.png', '/Users/embryo03/Downloads/anywhere-microbiology/src/img/answer/TDM.png', '/Users/embryo03/Downloads/anywhere-microbiology/src/img/answer/EHEC.png', '/Users/embryo03/Downloads/anywhere-microbiology/src/img/answer/Klebsiella.png', '/Users/embryo03/Downloads/anywhere-microbiology/src/img/answer/tetaniClostridium2.png', '/Users/embryo03/Downloads/anywhere-microbiology/src/img/answer/probiotics.png', '/Users/embryo03/Downloads/anywhere-microbiology/src/img/answer/infectiousLaw.png', '/Users/embryo03/Downloads/anywhere-microbiology/src/img/answer/Parvovirus.png', '/Users/embryo03/Downloads/anywhere-microbiology/src/img/answer/antibiogram.png', '/Users/embryo03/Downloads/anywhere-microbiology/src/img/answer/Listeria.png', '/Users/embryo03/Downloads/anywhere-microbiology/src/img/answer/ampC.png', '/Users/embryo03/Downloads/anywhere-microbiology/src/img/answer/adenoVirus.png', '/Users/embryo03/Downloads/anywhere-microbiology/src/img/answer/GramDifferencesGraph.png', '/Users/embryo03/Downloads/anywhere-microbiology/src/img/answer/emergingDiseases.png', '/Users/embryo03/Downloads/anywhere-microbiology/src/img/answer/RSV.png', '/Users/embryo03/Downloads/anywhere-microbiology/src/img/answer/tetaniClostridium1.png', '/Users/embryo03/Downloads/anywhere-microbiology/src/img/answer/pneumonia.png', '/Users/embryo03/Downloads/anywhere-microbiology/src/img/answer/difficile.png', '/Users/embryo03/Downloads/anywhere-microbiology/src/img/answer/agalactiaeStreptococcus.png', '/Users/embryo03/Downloads/anywhere-microbiology/src/img/answer/plague.png', '/Users/embryo03/Downloads/anywhere-microbiology/src/img/answer/facultativeAnaerobic.png', '/Users/embryo03/Downloads/anywhere-microbiology/src/img/answer/diphtheriae.png', '/Users/embryo03/Downloads/anywhere-microbiology/src/img/answer/SFTS.png', '/Users/embryo03/Downloads/anywhere-microbiology/src/img/answer/DoderleinBacillus.png', '/Users/embryo03/Downloads/anywhere-microbiology/src/img/answer/Shiga.png', '/Users/embryo03/Downloads/anywhere-microbiology/src/img/answer/GenusActinomyces.png', '/Users/embryo03/Downloads/anywhere-microbiology/src/img/answer/MRSAFromDrugAbuse.png', '/Users/embryo03/Downloads/anywhere-microbiology/src/img/answer/tuberculosisTreatment.png', '/Users/embryo03/Downloads/anywhere-microbiology/src/img/answer/prebiotics.png', '/Users/embryo03/Downloads/anywhere-microbiology/src/img/answer/bloodCulture.png', '/Users/embryo03/Downloads/anywhere-microbiology/src/img/answer/GenusNocardia.png', '/Users/embryo03/Downloads/anywhere-microbiology/src/img/answer/ETEC.png', '/Users/embryo03/Downloads/anywhere-microbiology/src/img/answer/Bartonella.png', '/Users/embryo03/Downloads/anywhere-microbiology/src/img/answer/metalloLactamase.png', '/Users/embryo03/Downloads/anywhere-microbiology/src/img/answer/antiFungal.png', '/Users/embryo03/Downloads/anywhere-microbiology/src/img/answer/Legionella.png', '/Users/embryo03/Downloads/anywhere-microbiology/src/img/answer/repressor.png', '/Users/embryo03/Downloads/anywhere-microbiology/src/img/answer/GramDifferences.png', '/Users/embryo03/Downloads/anywhere-microbiology/src/img/answer/herpesVirus67.png', '/Users/embryo03/Downloads/anywhere-microbiology/src/img/answer/liveVaccine.png', '/Users/embryo03/Downloads/anywhere-microbiology/src/img/answer/Chlamydiae.png', '/Users/embryo03/Downloads/anywhere-microbiology/src/img/answer/StreptococcusEndocarditis.png', '/Users/embryo03/Downloads/anywhere-microbiology/src/img/answer/fangusVariety.png', '/Users/embryo03/Downloads/anywhere-microbiology/src/img/answer/sterilization.png', '/Users/embryo03/Downloads/anywhere-microbiology/src/img/answer/tuberculosisTreatment2.png', '/Users/embryo03/Downloads/anywhere-microbiology/src/img/answer/infectiousMononucleosis.png', '/Users/embryo03/Downloads/anywhere-microbiology/src/img/answer/norovirus.png', '/Users/embryo03/Downloads/anywhere-microbiology/src/img/answer/influenzaHaemophilus.png', '/Users/embryo03/Downloads/anywhere-microbiology/src/img/answer/antiStain.png', '/Users/embryo03/Downloads/anywhere-microbiology/src/img/answer/resistanceSummary.png', '/Users/embryo03/Downloads/anywhere-microbiology/src/img/answer/pneumoniaeStreptococcus.png', '/Users/embryo03/Downloads/anywhere-microbiology/src/img/answer/bacteriaStructure.png', '/Users/embryo03/Downloads/anywhere-microbiology/src/img/answer/semiCritical.png', '/Users/embryo03/Downloads/anywhere-microbiology/src/img/answer/betaDGlucanFalsePositive.png', '/Users/embryo03/Downloads/anywhere-microbiology/src/img/answer/EIEC.png', '/Users/embryo03/Downloads/anywhere-microbiology/src/img/answer/pneumoniaeStreptococcusResistance.png', '/Users/embryo03/Downloads/anywhere-microbiology/src/img/answer/criticalTool.png', '/Users/embryo03/Downloads/anywhere-microbiology/src/img/answer/Rubella.png', '/Users/embryo03/Downloads/anywhere-microbiology/src/img/answer/pallidumTreponema.png', '/Users/embryo03/Downloads/anywhere-microbiology/src/img/answer/antigenDrift.png', '/Users/embryo03/Downloads/anywhere-microbiology/src/img/answer/empiricTherapy.png', '/Users/embryo03/Downloads/anywhere-microbiology/src/img/answer/tsutsugamushi.png', '/Users/embryo03/Downloads/anywhere-microbiology/src/img/answer/pneumoniaeStreptococcus2.png', '/Users/embryo03/Downloads/anywhere-microbiology/src/img/answer/tuberculosisDiagnosis.png', '/Users/embryo03/Downloads/anywhere-microbiology/src/img/answer/ICT.png', '/Users/embryo03/Downloads/anywhere-microbiology/src/img/answer/allBacteriaGram.png', '/Users/embryo03/Downloads/anywhere-microbiology/src/img/answer/DengueVirus.png', '/Users/embryo03/Downloads/anywhere-microbiology/src/img/answer/EBVAntibody.png', '/Users/embryo03/Downloads/anywhere-microbiology/src/img/answer/Mycoplasma.png', '/Users/embryo03/Downloads/anywhere-microbiology/src/img/answer/GenusActinomyces2.png', '/Users/embryo03/Downloads/anywhere-microbiology/src/img/answer/influenzaVirusHA.png', '/Users/embryo03/Downloads/anywhere-microbiology/src/img/answer/antibioticsAnimal.png', '/Users/embryo03/Downloads/anywhere-microbiology/src/img/answer/penicillinase.png', '/Users/embryo03/Downloads/anywhere-microbiology/src/img/answer/Leptospira.png', '/Users/embryo03/Downloads/anywhere-microbiology/src/img/answer/lepraeMycobacterium.png', '/Users/embryo03/Downloads/anywhere-microbiology/src/img/answer/MALDI.png', '/Users/embryo03/Downloads/anywhere-microbiology/src/img/answer/handHygiene.png', '/Users/embryo03/Downloads/anywhere-microbiology/src/img/answer/cilia.png', '/Users/embryo03/Downloads/anywhere-microbiology/src/img/answer/MRSALA.png', '/Users/embryo03/Downloads/anywhere-microbiology/src/img/answer/columbianExchange.png', '/Users/embryo03/Downloads/anywhere-microbiology/src/img/answer/CMV.png', '/Users/embryo03/Downloads/anywhere-microbiology/src/img/answer/diphtheriaeColony.png', '/Users/embryo03/Downloads/anywhere-microbiology/src/img/answer/Salmonella.png', '/Users/embryo03/Downloads/anywhere-microbiology/src/img/answer/tuberculosisSideEffect.png', '/Users/embryo03/Downloads/anywhere-microbiology/src/img/answer/StreptococcusOral.png', '/Users/embryo03/Downloads/anywhere-microbiology/src/img/answer/Coxsackievirus.png', '/Users/embryo03/Downloads/anywhere-microbiology/src/img/answer/ESBL.png', '/Users/embryo03/Downloads/anywhere-microbiology/src/img/answer/aeruginosa.png', '/Users/embryo03/Downloads/anywhere-microbiology/src/img/answer/poliovirus.png', '/Users/embryo03/Downloads/anywhere-microbiology/src/img/answer/Papilloma.png', '/Users/embryo03/Downloads/anywhere-microbiology/src/img/answer/sterilSpectrum.png', '/Users/embryo03/Downloads/anywhere-microbiology/src/img/answer/plasmidResistance.png', '/Users/embryo03/Downloads/anywhere-microbiology/src/img/answer/betaDGlucan13.png', '/Users/embryo03/Downloads/anywhere-microbiology/src/img/answer/VirusBacteria.png', '/Users/embryo03/Downloads/anywhere-microbiology/src/img/answer/diphtheriaeDiagnosis.png', '/Users/embryo03/Downloads/anywhere-microbiology/src/img/answer/produceBetaLactamase.png', '/Users/embryo03/Downloads/anywhere-microbiology/src/img/answer/virusVariety.png', '/Users/embryo03/Downloads/anywhere-microbiology/src/img/answer/PCR.png', '/Users/embryo03/Downloads/anywhere-microbiology/src/img/answer/enterotoxin.png', '/Users/embryo03/Downloads/anywhere-microbiology/src/img/answer/VZV.png', '/Users/embryo03/Downloads/anywhere-microbiology/src/img/answer/PFGE.png', '/Users/embryo03/Downloads/anywhere-microbiology/src/img/answer/ChlamydiaTrachomatis.png', '/Users/embryo03/Downloads/anywhere-microbiology/src/img/answer/betaLactamaseExample.png', '/Users/embryo03/Downloads/anywhere-microbiology/src/img/answer/rotavirusNorovirus.png', '/Users/embryo03/Downloads/anywhere-microbiology/src/img/answer/GramPositiveProtection.png', '/Users/embryo03/Downloads/anywhere-microbiology/src/img/answer/PPE1.png', '/Users/embryo03/Downloads/anywhere-microbiology/src/img/answer/JCV.png', '/Users/embryo03/Downloads/anywhere-microbiology/src/img/answer/fangusStructure.png', '/Users/embryo03/Downloads/anywhere-microbiology/src/img/answer/Lactobacillus.png', '/Users/embryo03/Downloads/anywhere-microbiology/src/img/answer/influenzaHaemophilusCheck.png', '/Users/embryo03/Downloads/anywhere-microbiology/src/img/answer/influenzaVirusNA.png', '/Users/embryo03/Downloads/anywhere-microbiology/src/img/answer/JapaneseEncephalitisVirus.png', '/Users/embryo03/Downloads/anywhere-microbiology/src/img/answer/botulinumToxin.png', '/Users/embryo03/Downloads/anywhere-microbiology/src/img/answer/pertussis.png', '/Users/embryo03/Downloads/anywhere-microbiology/src/img/answer/resistanceMechanism.png', '/Users/embryo03/Downloads/anywhere-microbiology/src/img/answer/sequence16SrRNA.png', '/Users/embryo03/Downloads/anywhere-microbiology/src/img/answer/anthracisBacillus.png', '/Users/embryo03/Downloads/anywhere-microbiology/src/img/answer/herpes.png', '/Users/embryo03/Downloads/anywhere-microbiology/src/img/answer/virusInfectedCell.png', '/Users/embryo03/Downloads/anywhere-microbiology/src/img/answer/smallpox.png', '/Users/embryo03/Downloads/anywhere-microbiology/src/img/answer/mask.png', '/Users/embryo03/Downloads/anywhere-microbiology/src/img/answer/perfringensClostridium.png', '/Users/embryo03/Downloads/anywhere-microbiology/src/img/answer/standardPrecautions.png', '/Users/embryo03/Downloads/anywhere-microbiology/src/img/answer/antibiotics.png', '/Users/embryo03/Downloads/anywhere-microbiology/src/img/answer/SAPathogenicity.png', '/Users/embryo03/Downloads/anywhere-microbiology/src/img/answer/Koch.png', '/Users/embryo03/Downloads/anywhere-microbiology/src/img/answer/AST.png', '/Users/embryo03/Downloads/anywhere-microbiology/src/img/answer/handWashing.png', '/Users/embryo03/Downloads/anywhere-microbiology/src/img/answer/MultiDrugResistantPercentage.png', '/Users/embryo03/Downloads/anywhere-microbiology/src/img/answer/experimentCulture.png', '/Users/embryo03/Downloads/anywhere-microbiology/src/img/answer/bacteriophage.png', '/Users/embryo03/Downloads/anywhere-microbiology/src/img/answer/disinfection.png', '/Users/embryo03/Downloads/anywhere-microbiology/src/img/answer/gown.png', '/Users/embryo03/Downloads/anywhere-microbiology/src/img/answer/MRSA.png', '/Users/embryo03/Downloads/anywhere-microbiology/src/img/answer/toxin.png', '/Users/embryo03/Downloads/anywhere-microbiology/src/img/answer/hospitalAcquiredInfection.png', '/Users/embryo03/Downloads/anywhere-microbiology/src/img/question/question202202.png', '/Users/embryo03/Downloads/anywhere-microbiology/src/img/question/question202201.png']\n"
     ]
    }
   ],
   "source": [
    "import os\n",
    "import glob\n",
    "print(glob.glob('anywhere-*'))\n",
    "print(os.path.abspath(glob.glob('anywhere-*')[0]))\n",
    "print(os.path.abspath(glob.glob('anywhere-*')[0]) + 'src/useQuestionList.js')\n",
    "f = open(os.path.abspath(glob.glob('anywhere-*')[0]) + '/src/useQuestionList.js', 'r')\n",
    "print(f.read()[0:1000])\n",
    "imgs = os.path.abspath(glob.glob('anywhere-*')[0]) + '/src/img/'\n",
    "print(glob.glob(imgs + '*/*.png'))\n"
   ]
  },
  {
   "cell_type": "code",
   "execution_count": 22,
   "metadata": {},
   "outputs": [
    {
     "name": "stdout",
     "output_type": "stream",
     "text": [
      "project_path_list:['anywhere-microbiology']\n",
      "project_path:anywhere-microbiology\n",
      "useQuestionList.js exists\n",
      "imgs_path_list:['anywhere-microbiology/src/img/answer/spectorum.png', 'anywhere-microbiology/src/img/answer/influenzaVirusA.png', 'anywhere-microbiology/src/img/answer/mitochondriaNucleus.png', 'anywhere-microbiology/src/img/answer/Acinetobacter.png', 'anywhere-microbiology/src/img/answer/LegionellaPathogenicity.png', 'anywhere-microbiology/src/img/answer/Actinomycetes.png', 'anywhere-microbiology/src/img/answer/MultiDrugResistant.png', 'anywhere-microbiology/src/img/answer/MumpsVirus.png', 'anywhere-microbiology/src/img/answer/VRE.png', 'anywhere-microbiology/src/img/answer/disc.png', 'anywhere-microbiology/src/img/answer/betaLactamaseCounterexample.png', 'anywhere-microbiology/src/img/answer/toxinInnerOuter.png', 'anywhere-microbiology/src/img/answer/BetaLactamResistanceMechanisms.png', 'anywhere-microbiology/src/img/answer/GramMethod.png', 'anywhere-microbiology/src/img/answer/Measles.png', 'anywhere-microbiology/src/img/answer/tuberculosis.png', 'anywhere-microbiology/src/img/answer/pallidumTreponemaSymptoms.png', 'anywhere-microbiology/src/img/answer/TDM.png', 'anywhere-microbiology/src/img/answer/EHEC.png', 'anywhere-microbiology/src/img/answer/Klebsiella.png', 'anywhere-microbiology/src/img/answer/tetaniClostridium2.png', 'anywhere-microbiology/src/img/answer/probiotics.png', 'anywhere-microbiology/src/img/answer/infectiousLaw.png', 'anywhere-microbiology/src/img/answer/Parvovirus.png', 'anywhere-microbiology/src/img/answer/antibiogram.png', 'anywhere-microbiology/src/img/answer/Listeria.png', 'anywhere-microbiology/src/img/answer/ampC.png', 'anywhere-microbiology/src/img/answer/adenoVirus.png', 'anywhere-microbiology/src/img/answer/GramDifferencesGraph.png', 'anywhere-microbiology/src/img/answer/emergingDiseases.png', 'anywhere-microbiology/src/img/answer/RSV.png', 'anywhere-microbiology/src/img/answer/tetaniClostridium1.png', 'anywhere-microbiology/src/img/answer/pneumonia.png', 'anywhere-microbiology/src/img/answer/difficile.png', 'anywhere-microbiology/src/img/answer/agalactiaeStreptococcus.png', 'anywhere-microbiology/src/img/answer/plague.png', 'anywhere-microbiology/src/img/answer/facultativeAnaerobic.png', 'anywhere-microbiology/src/img/answer/diphtheriae.png', 'anywhere-microbiology/src/img/answer/SFTS.png', 'anywhere-microbiology/src/img/answer/DoderleinBacillus.png', 'anywhere-microbiology/src/img/answer/Shiga.png', 'anywhere-microbiology/src/img/answer/GenusActinomyces.png', 'anywhere-microbiology/src/img/answer/MRSAFromDrugAbuse.png', 'anywhere-microbiology/src/img/answer/tuberculosisTreatment.png', 'anywhere-microbiology/src/img/answer/prebiotics.png', 'anywhere-microbiology/src/img/answer/bloodCulture.png', 'anywhere-microbiology/src/img/answer/GenusNocardia.png', 'anywhere-microbiology/src/img/answer/ETEC.png', 'anywhere-microbiology/src/img/answer/Bartonella.png', 'anywhere-microbiology/src/img/answer/metalloLactamase.png', 'anywhere-microbiology/src/img/answer/antiFungal.png', 'anywhere-microbiology/src/img/answer/Legionella.png', 'anywhere-microbiology/src/img/answer/repressor.png', 'anywhere-microbiology/src/img/answer/GramDifferences.png', 'anywhere-microbiology/src/img/answer/herpesVirus67.png', 'anywhere-microbiology/src/img/answer/liveVaccine.png', 'anywhere-microbiology/src/img/answer/Chlamydiae.png', 'anywhere-microbiology/src/img/answer/StreptococcusEndocarditis.png', 'anywhere-microbiology/src/img/answer/fangusVariety.png', 'anywhere-microbiology/src/img/answer/sterilization.png', 'anywhere-microbiology/src/img/answer/tuberculosisTreatment2.png', 'anywhere-microbiology/src/img/answer/infectiousMononucleosis.png', 'anywhere-microbiology/src/img/answer/norovirus.png', 'anywhere-microbiology/src/img/answer/influenzaHaemophilus.png', 'anywhere-microbiology/src/img/answer/antiStain.png', 'anywhere-microbiology/src/img/answer/resistanceSummary.png', 'anywhere-microbiology/src/img/answer/pneumoniaeStreptococcus.png', 'anywhere-microbiology/src/img/answer/bacteriaStructure.png', 'anywhere-microbiology/src/img/answer/semiCritical.png', 'anywhere-microbiology/src/img/answer/betaDGlucanFalsePositive.png', 'anywhere-microbiology/src/img/answer/EIEC.png', 'anywhere-microbiology/src/img/answer/pneumoniaeStreptococcusResistance.png', 'anywhere-microbiology/src/img/answer/criticalTool.png', 'anywhere-microbiology/src/img/answer/Rubella.png', 'anywhere-microbiology/src/img/answer/pallidumTreponema.png', 'anywhere-microbiology/src/img/answer/antigenDrift.png', 'anywhere-microbiology/src/img/answer/empiricTherapy.png', 'anywhere-microbiology/src/img/answer/tsutsugamushi.png', 'anywhere-microbiology/src/img/answer/pneumoniaeStreptococcus2.png', 'anywhere-microbiology/src/img/answer/tuberculosisDiagnosis.png', 'anywhere-microbiology/src/img/answer/ICT.png', 'anywhere-microbiology/src/img/answer/allBacteriaGram.png', 'anywhere-microbiology/src/img/answer/DengueVirus.png', 'anywhere-microbiology/src/img/answer/EBVAntibody.png', 'anywhere-microbiology/src/img/answer/Mycoplasma.png', 'anywhere-microbiology/src/img/answer/GenusActinomyces2.png', 'anywhere-microbiology/src/img/answer/influenzaVirusHA.png', 'anywhere-microbiology/src/img/answer/antibioticsAnimal.png', 'anywhere-microbiology/src/img/answer/penicillinase.png', 'anywhere-microbiology/src/img/answer/Leptospira.png', 'anywhere-microbiology/src/img/answer/lepraeMycobacterium.png', 'anywhere-microbiology/src/img/answer/MALDI.png', 'anywhere-microbiology/src/img/answer/handHygiene.png', 'anywhere-microbiology/src/img/answer/cilia.png', 'anywhere-microbiology/src/img/answer/MRSALA.png', 'anywhere-microbiology/src/img/answer/columbianExchange.png', 'anywhere-microbiology/src/img/answer/CMV.png', 'anywhere-microbiology/src/img/answer/diphtheriaeColony.png', 'anywhere-microbiology/src/img/answer/Salmonella.png', 'anywhere-microbiology/src/img/answer/tuberculosisSideEffect.png', 'anywhere-microbiology/src/img/answer/StreptococcusOral.png', 'anywhere-microbiology/src/img/answer/Coxsackievirus.png', 'anywhere-microbiology/src/img/answer/ESBL.png', 'anywhere-microbiology/src/img/answer/aeruginosa.png', 'anywhere-microbiology/src/img/answer/poliovirus.png', 'anywhere-microbiology/src/img/answer/Papilloma.png', 'anywhere-microbiology/src/img/answer/sterilSpectrum.png', 'anywhere-microbiology/src/img/answer/plasmidResistance.png', 'anywhere-microbiology/src/img/answer/betaDGlucan13.png', 'anywhere-microbiology/src/img/answer/VirusBacteria.png', 'anywhere-microbiology/src/img/answer/diphtheriaeDiagnosis.png', 'anywhere-microbiology/src/img/answer/produceBetaLactamase.png', 'anywhere-microbiology/src/img/answer/virusVariety.png', 'anywhere-microbiology/src/img/answer/PCR.png', 'anywhere-microbiology/src/img/answer/enterotoxin.png', 'anywhere-microbiology/src/img/answer/VZV.png', 'anywhere-microbiology/src/img/answer/PFGE.png', 'anywhere-microbiology/src/img/answer/ChlamydiaTrachomatis.png', 'anywhere-microbiology/src/img/answer/betaLactamaseExample.png', 'anywhere-microbiology/src/img/answer/rotavirusNorovirus.png', 'anywhere-microbiology/src/img/answer/GramPositiveProtection.png', 'anywhere-microbiology/src/img/answer/PPE1.png', 'anywhere-microbiology/src/img/answer/JCV.png', 'anywhere-microbiology/src/img/answer/fangusStructure.png', 'anywhere-microbiology/src/img/answer/Lactobacillus.png', 'anywhere-microbiology/src/img/answer/influenzaHaemophilusCheck.png', 'anywhere-microbiology/src/img/answer/influenzaVirusNA.png', 'anywhere-microbiology/src/img/answer/JapaneseEncephalitisVirus.png', 'anywhere-microbiology/src/img/answer/botulinumToxin.png', 'anywhere-microbiology/src/img/answer/pertussis.png', 'anywhere-microbiology/src/img/answer/resistanceMechanism.png', 'anywhere-microbiology/src/img/answer/sequence16SrRNA.png', 'anywhere-microbiology/src/img/answer/anthracisBacillus.png', 'anywhere-microbiology/src/img/answer/herpes.png', 'anywhere-microbiology/src/img/answer/virusInfectedCell.png', 'anywhere-microbiology/src/img/answer/smallpox.png', 'anywhere-microbiology/src/img/answer/mask.png', 'anywhere-microbiology/src/img/answer/perfringensClostridium.png', 'anywhere-microbiology/src/img/answer/standardPrecautions.png', 'anywhere-microbiology/src/img/answer/antibiotics.png', 'anywhere-microbiology/src/img/answer/SAPathogenicity.png', 'anywhere-microbiology/src/img/answer/Koch.png', 'anywhere-microbiology/src/img/answer/AST.png', 'anywhere-microbiology/src/img/answer/handWashing.png', 'anywhere-microbiology/src/img/answer/MultiDrugResistantPercentage.png', 'anywhere-microbiology/src/img/answer/experimentCulture.png', 'anywhere-microbiology/src/img/answer/bacteriophage.png', 'anywhere-microbiology/src/img/answer/disinfection.png', 'anywhere-microbiology/src/img/answer/gown.png', 'anywhere-microbiology/src/img/answer/MRSA.png', 'anywhere-microbiology/src/img/answer/toxin.png', 'anywhere-microbiology/src/img/answer/hospitalAcquiredInfection.png', 'anywhere-microbiology/src/img/question/question202202.png', 'anywhere-microbiology/src/img/question/question202201.png']\n",
      "new_line:\n",
      "import VirusBacteria from './img/answer/VirusBacteria.png';\n",
      "\n"
     ]
    }
   ],
   "source": [
    "import os\n",
    "import glob\n",
    "project_path_list = glob.glob('anywhere-*')\n",
    "print(\"project_path_list:\" + str(project_path_list))\n",
    "# imgs_path_list = glob.glob(project_path + '/src/img/*/*.png')\n",
    "# print(\"imgs_path_list:\" + str(imgs_path_list))\n",
    "for project_path in project_path_list:\n",
    "    print(\"project_path:\" + str(project_path))\n",
    "    if os.path.exists(project_path + '/src/useQuestionList.js'):\n",
    "        print(\"useQuestionList.js exists\")\n",
    "        imgs_path_list = []\n",
    "        imgs_path_list += glob.glob(project_path + '/src/img/*/*.png')\n",
    "        imgs_path_list += glob.glob(project_path + '/src/img/*/*.jpg')\n",
    "        imgs_path_list += glob.glob(project_path + '/src/img/*/*.jpeg')\n",
    "\n",
    "        print(\"imgs_path_list:\" + str(imgs_path_list))\n",
    "        new_line = ''\n",
    "        for img_path in imgs_path_list:\n",
    "            img_name = img_path.split('/')[-1].split('.')[-2]\n",
    "            if img_name[0].isdigit():\n",
    "                img_name = 'img' + img_name\n",
    "            if os.path.exists(img_path):\n",
    "                # new_line += 'import ' + img_name + \" from '\" + img_path + \"';\\n\"\n",
    "                # new_line += 'import ' + img_name + \" from './img/\" + img_path.split('/')[-2] + '/' + img_path.split('/')[-1] + \"';\\n\"\n",
    "                with open(project_path + '/src/useQuestionList.js', 'r') as f:\n",
    "                    lines = f.readlines()\n",
    "                    for line in lines:\n",
    "                        if 'import ' + img_name in line:\n",
    "                            break\n",
    "                    else:\n",
    "                        new_line += 'import ' + img_name + \" from './img/\" + img_path.split('/')[-2] + '/' + img_path.split('/')[-1] + \"';\\n\"\n",
    "            else:\n",
    "                print(\"img not exists: \" + img_path)\n",
    "        print(\"new_line:\\n\" + new_line)\n",
    "        f = open(project_path + '/src/useQuestionList.js', 'r')\n",
    "        new_Questionlist = new_line + f.read()\n",
    "        f.close()\n",
    "        with open(project_path + '/src/useQuestionList.js', 'w') as output:\n",
    "            output.write(new_Questionlist)\n",
    "\n",
    "    else:\n",
    "        print(\"useQuestionList.js not exists: \" + project_path + '/src/useQuestionList.js')\n",
    "        continue\n",
    "\n"
   ]
  },
  {
   "cell_type": "code",
   "execution_count": null,
   "metadata": {},
   "outputs": [],
   "source": []
  }
 ],
 "metadata": {
  "kernelspec": {
   "display_name": "Python 3",
   "language": "python",
   "name": "python3"
  },
  "language_info": {
   "codemirror_mode": {
    "name": "ipython",
    "version": 3
   },
   "file_extension": ".py",
   "mimetype": "text/x-python",
   "name": "python",
   "nbconvert_exporter": "python",
   "pygments_lexer": "ipython3",
   "version": "3.9.6"
  }
 },
 "nbformat": 4,
 "nbformat_minor": 2
}
